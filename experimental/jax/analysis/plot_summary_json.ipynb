{
  "cells": [
    {
      "cell_type": "markdown",
      "metadata": {
        "colab_type": "text",
        "id": "6iEEw5OwSlnz"
      },
      "source": [
        "# Plot Results from an Experiment Summary JSON File",
        "Licensed under the Apache License, Version 2.0"
      ]
    },
    {
      "cell_type": "markdown",
      "metadata": {
        "colab_type": "text",
        "id": "Eg6FmoCaTCHM"
      },
      "source": [
        "## Parameters"
      ]
    },
    {
      "cell_type": "code",
      "execution_count": null,
      "metadata": {
        "colab": {},
        "colab_type": "code",
        "id": "ML0hUJMzYF0W"
      },
      "outputs": [],
      "source": [
        "from google.colab import files\n",
        "\n",
        "# Experiment summary filenames (one per experiment)\n",
        "SUMMARY_FILES = files.upload()"
      ]
    },
    {
      "cell_type": "code",
      "execution_count": null,
      "metadata": {
        "colab": {},
        "colab_type": "code",
        "id": "MHubbscQSLGm"
      },
      "outputs": [],
      "source": [
        "# Labels to use for each of the summaries listed above (in the same order!)\n",
        "XID_LABELS=['structured', 'unstructured']  #@param"
      ]
    },
    {
      "cell_type": "markdown",
      "metadata": {
        "colab_type": "text",
        "id": "x0jDBWKdU_2A"
      },
      "source": [
        "## Loading of JSON Summary/Conversion to Pandas Dataframe"
      ]
    },
    {
      "cell_type": "code",
      "execution_count": null,
      "metadata": {
        "colab": {},
        "colab_type": "code",
        "id": "Lz-HwS1tU-ie"
      },
      "outputs": [],
      "source": [
        "import json\n",
        "import pandas as pd\n",
        "import os\n",
        "\n",
        "from colabtools.interactive_widgets import ProgressIter\n",
        "\n",
        "dfs = []\n",
        "for i, summary_file in enumerate(SUMMARY_FILES):\n",
        "  with open(summary_file) as summary_file:\n",
        "    data = json.load(summary_file)\n",
        "    dataframe = pd.DataFrame.from_dict(data, orient='index')\n",
        "    dataframe['experiment_label'] = XID_LABELS[i]\n",
        "    dfs.append(dataframe)\n",
        "\n",
        "df=pd.concat(dfs)\n",
        "\n",
        "print('Loaded {} rows for experiment'.format(len(data)))"
      ]
    },
    {
      "cell_type": "markdown",
      "metadata": {
        "colab_type": "text",
        "id": "DhO6oT1nVpTV"
      },
      "source": [
        "## Measurements and Labels"
      ]
    },
    {
      "cell_type": "code",
      "execution_count": null,
      "metadata": {
        "colab": {},
        "colab_type": "code",
        "id": "XFRR3XrXVopB"
      },
      "outputs": [],
      "source": [
        "DATA_LABELS={\n",
        "    'best_train_loss/test_accuracy': 'Test Accuracy  (of best train loss)',\n",
        "    'best_train_loss/train_accuracy': 'Train Accuracy  (of best train loss)',\n",
        "    'best_train_loss/test_avg_loss': 'Test Loss  (of best train loss)',\n",
        "    'best_train_loss/train_avg_loss': 'Train Loss  (of best train loss)',\n",
        "    'best_train_loss/step': 'Training Iterations  (of best train loss)',\n",
        "    'best_train_loss/cumulative_gradient_norm': 'Cumulative Gradient Norm. (of best train loss)',\n",
        "    'best_train_loss/vector_difference_norm': 'Vector Difference Norm. (of best train loss)',\n",
        "    'best_train_loss/cosine_distance': 'Cosine Similarity (of best train loss)',\n",
        "    'best_test_acc/test_accuracy': 'Test Accuracy (of best test acc.)',\n",
        "    'best_test_acc/train_accuracy': 'Train Accuracy (of best test acc.)',\n",
        "    'best_test_acc/test_avg_loss': 'Test Loss (of best test acc.)',\n",
        "    'best_test_acc/train_avg_loss': 'Train Loss (of best test acc.)',\n",
        "    'best_test_acc/step': 'Training Iterations (of best test acc.)',\n",
        "    'best_test_acc/cumulative_gradient_norm': 'Cumulative Gradient Norm. (of best Test Acc.)',\n",
        "    'best_test_acc/cosine_distance': 'Cosine Similarity (of best Test Acc.)',\n",
        "    'best_test_acc/vector_difference_norm': 'Vector Difference Norm. (of best Test Acc.)',\n",
        "    'mask/sparsity': 'Sparsity',\n",
        "    'mask/unique_neurons': '# Unique Neurons',\n",
        "    'mask/zeroed_neurons': '# Zeroed Neurons',\n",
        "    'mask/permutation_log10': 'log10(1 + Permutations)',\n",
        "    'mask/permutation_num_digits': 'Permutation # of Digits',\n",
        "    'mask/permutations': 'Permutation',\n",
        "    'mask/total_neurons': 'Total # of Neurons',\n",
        "    'propagated_mask/sparsity': 'Mask Sparsity',\n",
        "    'propagated_mask/unique_neurons': '# Unique Neurons (prop.)',\n",
        "    'propagated_mask/zeroed_neurons': '# Zeroed Neurons (prop.)',\n",
        "    'propagated_mask/permutation_log10': 'log10(1 + Permutations) (prop.)',\n",
        "    'propagated_mask/permutation_num_digits': 'Permutation # of Digits (prop.)',\n",
        "    'propagated_mask/permutations': 'Mask Permutations',\n",
        "    'propagated_mask/total_neurons': 'Total # of Neurons (prop.)',\n",
        "    'training/train_avg_loss': 'Train Loss',\n",
        "}"
      ]
    },
    {
      "cell_type": "markdown",
      "metadata": {
        "colab_type": "text",
        "id": "HAVkz8ZzV0Hd"
      },
      "source": [
        "# Seaborn Plot Example"
      ]
    },
    {
      "cell_type": "code",
      "execution_count": null,
      "metadata": {
        "colab": {},
        "colab_type": "code",
        "id": "eoxoJH4gWHbb"
      },
      "outputs": [],
      "source": [
        "# Choose the X/Y/Z labels from the parameter list above.\n",
        "X_LABEL='propagated_mask/sparsity'  #@param {type:\"string\"}\n",
        "Y_LABEL='best_train_loss/cumulative_gradient_norm' #@param {type:\"string\"}"
      ]
    },
    {
      "cell_type": "code",
      "execution_count": null,
      "metadata": {
        "colab": {},
        "colab_type": "code",
        "id": "pudAXLl1VzFl"
      },
      "outputs": [],
      "source": [
        "import seaborn as sns\n",
        "import matplotlib.pyplot as plt\n",
        "import numpy as np\n",
        "\n",
        "# Seaborn style - remove outer plot ticks, white plot background.\n",
        "np.set_printoptions(linewidth=128, precision=3, edgeitems=5)\n",
        "sns.set_style(\"whitegrid\")\n",
        "sns.color_palette(\"muted\")\n",
        "sns.set_context(\"paper\", font_scale=1, rc={\n",
        "    \"lines.linewidth\": 1.2,\n",
        "    \"xtick.major.size\": 0,\n",
        "    \"xtick.minor.size\": 0,\n",
        "    \"ytick.major.size\": 0,\n",
        "    \"ytick.minor.size\": 0\n",
        "})\n",
        "\n",
        "# Higher resolution plots\n",
        "%config InlineBackend.figure_format = 'retina'"
      ]
    },
    {
      "cell_type": "markdown",
      "metadata": {
        "colab_type": "text",
        "id": "lYUK9xi_aym3"
      },
      "source": [
        "### Plot Raw Data Points"
      ]
    },
    {
      "cell_type": "code",
      "execution_count": null,
      "metadata": {
        "colab": {},
        "colab_type": "code",
        "id": "uWcT76L6Wbv6"
      },
      "outputs": [],
      "source": [
        "\n",
        "plt.figure(figsize=(16,8))\n",
        "axis = sns.scatterplot(data=df, x=X_LABEL, y=Y_LABEL, hue='experiment_label', s=50, alpha=.5)\n",
        "axis.set_ylabel(DATA_LABELS[Y_LABEL])\n",
        "axis.set_xlabel(DATA_LABELS[X_LABEL])"
      ]
    },
    {
      "cell_type": "markdown",
      "metadata": {
        "colab_type": "text",
        "id": "Kws6tjfTa7h0"
      },
      "source": [
        "### Plot Mean/StdDev"
      ]
    },
    {
      "cell_type": "code",
      "execution_count": null,
      "metadata": {
        "colab": {},
        "colab_type": "code",
        "id": "jR04tmMnaxjG"
      },
      "outputs": [],
      "source": [
        "plt.figure(figsize=(16,8))\n",
        "axis = sns.lineplot(data=df, x=X_LABEL, y=Y_LABEL, hue='experiment_label', alpha=.5, ci=\"sd\", markers=True)\n",
        "axis.set_ylabel(DATA_LABELS[Y_LABEL])\n",
        "axis.set_xlabel(DATA_LABELS[X_LABEL])"
      ]
    },
    {
      "cell_type": "code",
      "execution_count": null,
      "metadata": {
        "colab": {},
        "colab_type": "code",
        "id": "jyNFtKQfajiq"
      },
      "outputs": [],
      "source": [
        "# Code to save output files for publication.\n",
        "PARAM_STR=X_LABEL.replace('/', '-')+'_'+Y_LABEL.replace('/', '-')\n",
        "\n",
        "OUT_FILE_PDF=f'/tmp/{PARAM_STR}.pdf'\n",
        "OUT_FILE_SVG=f'/tmp/{PARAM_STR}.svg'\n",
        "OUT_FILE_PNG=f'/tmp/{PARAM_STR}.png'\n",
        "\n",
        "plt.savefig(OUT_FILE_PDF, pi=600)\n",
        "files.download(OUT_FILE_PDF)\n",
        "\n",
        "plt.savefig(OUT_FILE_SVG)\n",
        "files.download(OUT_FILE_SVG)\n",
        "\n",
        "plt.savefig(OUT_FILE_PNG)\n",
        "files.download(OUT_FILE_PNG)"
      ]
    }
  ],
  "metadata": {
    "colab": {
      "collapsed_sections": [],
      "name": "plot_summary_json",
      "provenance": [
        {
          "file_id": "1g2aTwv76XMrLfEwryfj_tGzNnvZWjIVl",
          "timestamp": 1600990155741
        }
      ]
    },
    "kernelspec": {
      "display_name": "Python 3",
      "name": "python3"
    }
  },
  "nbformat": 4,
  "nbformat_minor": 0
}
