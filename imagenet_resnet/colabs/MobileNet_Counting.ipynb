{
  "cells": [
    {
      "cell_type": "markdown",
      "metadata": {
        "colab_type": "text",
        "id": "e5O1UdsY202_"
      },
      "source": [
        "##### Copyright 2020 Google LLC.\n",
        "\n",
        "Licensed under the Apache License, Version 2.0 (the \"License\");"
      ]
    },
    {
      "cell_type": "code",
      "execution_count": null,
      "metadata": {
        "id": "Wtx39-f76KsC"
      },
      "outputs": [],
      "source": [
        "# Download necessary libraries.\n",
        "%%bash \n",
        "test -d rigl || git clone https://github.com/google-research/rigl rigl_repo \u0026\u0026 mv rigl_repo/rigl ./ \n",
        "test -d gresearch || git clone https://github.com/google-research/google-research google_research"
      ]
    },
    {
      "cell_type": "markdown",
      "metadata": {
        "id": "i25HTaVl6LAI"
      },
      "source": [
        "## Parameter and FLOPs Counting for MobileNetv1 "
      ]
    },
    {
      "cell_type": "code",
      "execution_count": null,
      "metadata": {
        "id": "gAkFMbjrNCww"
      },
      "outputs": [],
      "source": [
        "import numpy as np\n",
        "import tensorflow as tf\n",
        "from google_research.micronet_challenge import counting\n",
        "from rigl import sparse_utils\n",
        "tf.compat.v1.logging.set_verbosity(tf.compat.v1.logging.ERROR)"
      ]
    },
    {
      "cell_type": "code",
      "execution_count": null,
      "metadata": {
        "colab": {
          "height": 34
        },
        "executionInfo": {
          "elapsed": 2458,
          "status": "ok",
          "timestamp": 1593006846761,
          "user": {
            "displayName": "",
            "photoUrl": "",
            "userId": ""
          },
          "user_tz": 240
        },
        "id": "dYm9k-Q47PXe",
        "outputId": "db7fc195-6e0b-4c04-b695-5670128503d7"
      },
      "outputs": [
        {
          "data": {
            "text/plain": [
              "\u003ctf.Tensor 'mobilenet_1.00_224/act_softmax/Softmax:0' shape=(2, 1000) dtype=float32\u003e"
            ]
          },
          "execution_count": 2,
          "metadata": {
            "tags": []
          },
          "output_type": "execute_result"
        }
      ],
      "source": [
        "tf.compat.v1.reset_default_graph()\n",
        "model=tf.keras.applications.MobileNet(input_shape=(224,224,3), weights=None)\n",
        "model(tf.ones((2,224,224,3)))"
      ]
    },
    {
      "cell_type": "code",
      "execution_count": null,
      "metadata": {
        "id": "RNS1s5Wm7U8-"
      },
      "outputs": [],
      "source": [
        "masked_layers = []\n",
        "dw_layers = []\n",
        "for layer in model.layers:\n",
        "  if isinstance(layer, (tf.keras.layers.Conv2D, tf.keras.layers.Dense, tf.keras.layers.DepthwiseConv2D)):     \n",
        "    masked_layers.append(layer)\n",
        "    if 'conv_dw' in layer.name:\n",
        "      dw_layers.append(layer)\n",
        "    # print(layer.name, sparse_utils._get_kernel(layer).shape)"
      ]
    },
    {
      "cell_type": "code",
      "execution_count": null,
      "metadata": {
        "id": "QtD03TrBSDzV"
      },
      "outputs": [],
      "source": [
        "PARAM_SIZE=32\n",
        "import functools\n",
        "\n",
        "get_stats = functools.partial(\n",
        "    sparse_utils.get_stats, first_layer_name='conv1',\n",
        "    last_layer_name='conv_preds', param_size=PARAM_SIZE)\n",
        "\n",
        "def print_stats(masked_layers, default_sparsity=0.8, method='erdos_renyi',\n",
        "                custom_sparsities=None, is_debug=False, width=1.):\n",
        "  print('Method: %s, Sparsity: %f' % (method, default_sparsity))\n",
        "  total_flops, total_param_bits, sparsity = get_stats(\n",
        "      masked_layers, default_sparsity=default_sparsity, method=method,\n",
        "      custom_sparsities=custom_sparsities, is_debug=is_debug, width=width)\n",
        "  print('Total Flops: %.3f MFlops' % (total_flops/1e6))\n",
        "  print('Total Size: %.3f Mbytes' % (total_param_bits/8e6))\n",
        "  print('Real Sparsity: %.3f' % (sparsity))"
      ]
    },
    {
      "cell_type": "markdown",
      "metadata": {
        "id": "FvqtfXePpgdb"
      },
      "source": [
        "### Printing sparse network stats"
      ]
    },
    {
      "cell_type": "code",
      "execution_count": null,
      "metadata": {
        "colab": {
          "height": 218
        },
        "executionInfo": {
          "elapsed": 548,
          "status": "ok",
          "timestamp": 1593006940695,
          "user": {
            "displayName": "",
            "photoUrl": "",
            "userId": ""
          },
          "user_tz": 240
        },
        "id": "qupDcQOlTxDk",
        "outputId": "f59b39d2-eedb-4e45-db93-f52958f24a45"
      },
      "outputs": [
        {
          "name": "stdout",
          "output_type": "stream",
          "text": [
            "Method: erdos_renyi_kernel, Sparsity: 0.750000\n",
            "Total Flops: 599.144 MFlops\n",
            "Total Size: 4.888 Mbytes\n",
            "Real Sparsity: 0.742\n",
            "Method: random, Sparsity: 0.750000\n",
            "Total Flops: 330.769 MFlops\n",
            "Total Size: 4.894 Mbytes\n",
            "Real Sparsity: 0.742\n",
            "Method: random, Sparsity: 0.000000\n",
            "Total Flops: 1141.544 MFlops\n",
            "Total Size: 16.864 Mbytes\n",
            "Real Sparsity: 0.000\n"
          ]
        }
      ],
      "source": [
        "c_sparsities = {'%s/depthwise_kernel:0' % l.name: 0. for l in dw_layers}\n",
        "c_sparsities_uniform = c_sparsities.copy()\n",
        "c_sparsities_uniform['conv1/kernel:0'] = 0.\n",
        "# c_sparsities_uniform['conv_preds/kernel:0'] = 0.\n",
        "# First layer has sparsity 0 by default.\n",
        "print_stats(masked_layers, 0.75, 'erdos_renyi_kernel', c_sparsities, is_debug=False)\n",
        "print_stats(masked_layers, 0.75, 'random', c_sparsities_uniform, is_debug=False)\n",
        "print_stats(masked_layers, 0, 'random', is_debug=False)"
      ]
    },
    {
      "cell_type": "code",
      "execution_count": null,
      "metadata": {
        "colab": {
          "height": 151
        },
        "executionInfo": {
          "elapsed": 529,
          "status": "ok",
          "timestamp": 1593028091210,
          "user": {
            "displayName": "",
            "photoUrl": "",
            "userId": ""
          },
          "user_tz": 240
        },
        "id": "qvagZCnX31yP",
        "outputId": "542832bb-7b59-4f43-d216-73260a9a3a56"
      },
      "outputs": [
        {
          "name": "stdout",
          "output_type": "stream",
          "text": [
            "Method: erdos_renyi_kernel, Sparsity: 0.850000\n",
            "Total Flops: 439.152 MFlops\n",
            "Total Size: 3.224 Mbytes\n",
            "Real Sparsity: 0.841\n",
            "Method: random, Sparsity: 0.850000\n",
            "Total Flops: 222.666 MFlops\n",
            "Total Size: 3.229 Mbytes\n",
            "Real Sparsity: 0.841\n"
          ]
        }
      ],
      "source": [
        "print_stats(masked_layers, 0.85, 'erdos_renyi_kernel', c_sparsities, is_debug=False)\n",
        "print_stats(masked_layers, 0.85, 'random', c_sparsities_uniform, is_debug=False)"
      ]
    },
    {
      "cell_type": "code",
      "execution_count": null,
      "metadata": {
        "colab": {
          "height": 151
        },
        "executionInfo": {
          "elapsed": 840,
          "status": "ok",
          "timestamp": 1593006957962,
          "user": {
            "displayName": "",
            "photoUrl": "",
            "userId": ""
          },
          "user_tz": 240
        },
        "id": "t3L8WlYJOhku",
        "outputId": "e5d4709b-984e-4e6d-ded4-8bdd81071267"
      },
      "outputs": [
        {
          "name": "stdout",
          "output_type": "stream",
          "text": [
            "Method: erdos_renyi_kernel, Sparsity: 0.900000\n",
            "Total Flops: 334.134 MFlops\n",
            "Total Size: 2.392 Mbytes\n",
            "Real Sparsity: 0.890\n",
            "Method: random, Sparsity: 0.900000\n",
            "Total Flops: 168.614 MFlops\n",
            "Total Size: 2.396 Mbytes\n",
            "Real Sparsity: 0.890\n"
          ]
        }
      ],
      "source": [
        "print_stats(masked_layers, 0.9, 'erdos_renyi_kernel', c_sparsities, is_debug=False)\n",
        "print_stats(masked_layers, 0.9, 'random', c_sparsities_uniform, is_debug=False)"
      ]
    },
    {
      "cell_type": "code",
      "execution_count": null,
      "metadata": {
        "colab": {
          "height": 153
        },
        "executionInfo": {
          "elapsed": 567,
          "status": "ok",
          "timestamp": 1582843606223,
          "user": {
            "displayName": "",
            "photoUrl": "",
            "userId": ""
          },
          "user_tz": 480
        },
        "id": "Ge1Ct0YjUME1",
        "outputId": "7144ccdc-eae9-47d8-8a5c-b74aad94187c"
      },
      "outputs": [
        {
          "name": "stdout",
          "output_type": "stream",
          "text": [
            "Method: erdos_renyi_kernel, Sparsity: 0.950000\n",
            "Total Flops: 205.281 MFlops\n",
            "Total Size: 1.560 Mbytes\n",
            "Real Sparsity: 0.940\n",
            "Method: random, Sparsity: 0.950000\n",
            "Total Flops: 114.563 MFlops\n",
            "Total Size: 1.563 Mbytes\n",
            "Real Sparsity: 0.940\n"
          ]
        }
      ],
      "source": [
        "print_stats(masked_layers, 0.95, 'erdos_renyi_kernel', c_sparsities, is_debug=False)\n",
        "print_stats(masked_layers, 0.95, 'random', c_sparsities_uniform, is_debug=False)"
      ]
    },
    {
      "cell_type": "markdown",
      "metadata": {
        "id": "2RnZ9BCDVJ2P"
      },
      "source": [
        "## Finding the width Multiplier for small dense model"
      ]
    },
    {
      "cell_type": "code",
      "execution_count": null,
      "metadata": {
        "colab": {
          "height": 173
        },
        "executionInfo": {
          "elapsed": 536,
          "status": "ok",
          "timestamp": 1569942238017,
          "user": {
            "displayName": "",
            "photoUrl": "",
            "userId": ""
          },
          "user_tz": 240
        },
        "id": "-qQMOoNqURfs",
        "outputId": "4edf8c57-c3ab-45a1-f19d-13be5da23368"
      },
      "outputs": [
        {
          "name": "stdout",
          "output_type": "stream",
          "text": [
            "0.9933069386323201\n",
            "Method: erdos_renyi_kernel, Sparsity: 0.000000\n",
            "Total Flops: 266.539 MFlops\n",
            "Total Size: 4.789 Mbytes\n",
            "Real Sparsity: 0.000\n",
            "Method: erdos_renyi_kernel, Sparsity: 0.750000\n",
            "Total Flops: 588.355 MFlops\n",
            "Total Size: 4.757 Mbytes\n",
            "Real Sparsity: 0.750\n"
          ]
        }
      ],
      "source": [
        "_, sparse_bits, _ = get_stats(masked_layers, 0.75, 'erdos_renyi_kernel', {'conv1/kernel:0':0.})\n",
        "_, bits, _ = get_stats(masked_layers, 0., 'erdos_renyi_kernel', width=0.47)\n",
        "print(sparse_bits/bits)\n",
        "print_stats(masked_layers, 0., 'erdos_renyi_kernel', is_debug=False, width=0.47)\n",
        "print_stats(masked_layers, 0.75, 'erdos_renyi_kernel', {'conv1/kernel:0':0.}, is_debug=False, width=1)"
      ]
    },
    {
      "cell_type": "code",
      "execution_count": null,
      "metadata": {
        "colab": {
          "height": 173
        },
        "executionInfo": {
          "elapsed": 536,
          "status": "ok",
          "timestamp": 1569942242149,
          "user": {
            "displayName": "",
            "photoUrl": "",
            "userId": ""
          },
          "user_tz": 240
        },
        "id": "P5mS-6h3ZChX",
        "outputId": "b722e40b-2797-454e-a2bb-91cdaef4a79d"
      },
      "outputs": [
        {
          "name": "stdout",
          "output_type": "stream",
          "text": [
            "0.9998127484496482\n",
            "Method: erdos_renyi_kernel, Sparsity: 0.000000\n",
            "Total Flops: 154.770 MFlops\n",
            "Total Size: 3.076 Mbytes\n",
            "Real Sparsity: 0.000\n",
            "Method: erdos_renyi_kernel, Sparsity: 0.850000\n",
            "Total Flops: 422.419 MFlops\n",
            "Total Size: 3.075 Mbytes\n",
            "Real Sparsity: 0.850\n"
          ]
        }
      ],
      "source": [
        "_, sparse_bits, _ = get_stats(masked_layers, 0.85, 'erdos_renyi_kernel', {'conv1/kernel:0':0.})\n",
        "_, bits, _ = get_stats(masked_layers, 0., 'erdos_renyi_kernel', width=0.353)\n",
        "print(sparse_bits/bits)\n",
        "print_stats(masked_layers, 0., 'erdos_renyi_kernel', is_debug=False, width=0.353)\n",
        "print_stats(masked_layers, 0.85, 'erdos_renyi_kernel', {'conv1/kernel:0':0.}, is_debug=False, width=1)"
      ]
    },
    {
      "cell_type": "code",
      "execution_count": null,
      "metadata": {
        "colab": {
          "height": 168
        },
        "executionInfo": {
          "elapsed": 656,
          "status": "ok",
          "timestamp": 1569028742267,
          "user": {
            "displayName": "Utku Evci",
            "photoUrl": "https://lh3.googleusercontent.com/a-/AAuE7mAWXSVCykm6kPzLHt5KN6jYg31_w1lnqRpCfWt35A=s64",
            "userId": "01088181649958641579"
          },
          "user_tz": 240
        },
        "id": "wY2Uc8RlVkRb",
        "outputId": "03535606-8b6f-4eb9-ca48-ef235d69994f"
      },
      "outputs": [
        {
          "name": "stdout",
          "output_type": "stream",
          "text": [
            "0.9996546850118981\n",
            "Method: erdos_renyi_kernel, Sparsity: 0.000000\n",
            "Total Flops: 103.825 MFlops\n",
            "Total Size: 2.236 Mbytes\n",
            "Real Sparsity: 0.000\n",
            "Method: erdos_renyi_kernel, Sparsity: 0.900000\n",
            "Total Flops: 312.956 MFlops\n",
            "Total Size: 2.235 Mbytes\n",
            "Real Sparsity: 0.900\n"
          ]
        }
      ],
      "source": [
        "_, sparse_bits, _ = get_stats(masked_layers, 0.9, 'erdos_renyi_kernel', {'conv1/kernel:0':0.})\n",
        "_, bits, _ = get_stats(masked_layers, 0., 'erdos_renyi_kernel', width=0.285)\n",
        "print(sparse_bits/bits)\n",
        "print_stats(masked_layers, 0., 'erdos_renyi_kernel', is_debug=False, width=0.285)\n",
        "print_stats(masked_layers, 0.9, 'erdos_renyi_kernel', {'conv1/kernel:0':0.}, is_debug=False, width=1)"
      ]
    },
    {
      "cell_type": "code",
      "execution_count": null,
      "metadata": {
        "colab": {
          "height": 168
        },
        "executionInfo": {
          "elapsed": 574,
          "status": "ok",
          "timestamp": 1569089855290,
          "user": {
            "displayName": "Utku Evci",
            "photoUrl": "https://lh3.googleusercontent.com/a-/AAuE7mAWXSVCykm6kPzLHt5KN6jYg31_w1lnqRpCfWt35A=s64",
            "userId": "01088181649958641579"
          },
          "user_tz": 240
        },
        "id": "TUfPAjO5Cryq",
        "outputId": "c528942a-f531-48df-a46e-d94d5dae0a89"
      },
      "outputs": [
        {
          "name": "stdout",
          "output_type": "stream",
          "text": [
            "0.9982463429660301\n",
            "Method: erdos_renyi_kernel, Sparsity: 0.000000\n",
            "Total Flops: 56.617 MFlops\n",
            "Total Size: 1.396 Mbytes\n",
            "Real Sparsity: 0.000\n",
            "Method: erdos_renyi_kernel, Sparsity: 0.950000\n",
            "Total Flops: 180.359 MFlops\n",
            "Total Size: 1.393 Mbytes\n",
            "Real Sparsity: 0.950\n"
          ]
        }
      ],
      "source": [
        "_, sparse_bits, _ = get_stats(masked_layers, 0.95, 'erdos_renyi_kernel', {'conv1/kernel:0':0.})\n",
        "_, bits, _ = get_stats(masked_layers, 0., 'erdos_renyi_kernel', width=0.204)\n",
        "print(sparse_bits/bits)\n",
        "print_stats(masked_layers, 0., 'erdos_renyi_kernel', is_debug=False, width=0.204)\n",
        "print_stats(masked_layers, 0.95, 'erdos_renyi_kernel', {'conv1/kernel:0':0.}, is_debug=False, width=1)"
      ]
    },
    {
      "cell_type": "markdown",
      "metadata": {
        "id": "f8sqZWZYpoqa"
      },
      "source": [
        "### Big-Sparse Networks"
      ]
    },
    {
      "cell_type": "code",
      "execution_count": null,
      "metadata": {
        "colab": {
          "height": 242
        },
        "executionInfo": {
          "elapsed": 631,
          "status": "ok",
          "timestamp": 1569285091631,
          "user": {
            "displayName": "Utku Evci",
            "photoUrl": "https://lh3.googleusercontent.com/a-/AAuE7mAWXSVCykm6kPzLHt5KN6jYg31_w1lnqRpCfWt35A=s64",
            "userId": "01088181649958641579"
          },
          "user_tz": 240
        },
        "id": "f-eD8zoFY_-U",
        "outputId": "0341ebde-cff6-497e-afaf-65e4a39ac438"
      },
      "outputs": [
        {
          "name": "stdout",
          "output_type": "stream",
          "text": [
            "1.0084815029856933\n",
            "Method: erdos_renyi_kernel, Sparsity: 0.750000\n",
            "Total Flops: 2180.140 MFlops\n",
            "Total Size: 16.723 Mbytes\n",
            "Real Sparsity: 0.742\n",
            "Method: random, Sparsity: 0.750000\n",
            "Total Flops: 1122.572 MFlops\n",
            "Total Size: 15.863 Mbytes\n",
            "Real Sparsity: 0.757\n",
            "Method: erdos_renyi_kernel, Sparsity: 0.000000\n",
            "Total Flops: 1141.544 MFlops\n",
            "Total Size: 16.864 Mbytes\n",
            "Real Sparsity: 0.000\n"
          ]
        }
      ],
      "source": [
        "# BIGGER\n",
        "_, sparse_bits, _ = get_stats(masked_layers, 0., 'erdos_renyi_kernel')\n",
        "_, bits, _ = get_stats(masked_layers, 0.75, 'erdos_renyi_kernel', {'conv1/kernel:0':0.}, width=1.98)\n",
        "print(sparse_bits/bits)\n",
        "print_stats(masked_layers, 0.75, 'erdos_renyi_kernel', {'conv1/kernel:0':0.}, is_debug=False, width=1.98)\n",
        "print_stats(masked_layers, 0.75, 'random', {'conv_preds/kernel:0':0.8, 'conv1/kernel:0':0.}, is_debug=False, width=1.98)\n",
        "print_stats(masked_layers, 0., 'erdos_renyi_kernel', is_debug=False, width=1)"
      ]
    },
    {
      "cell_type": "code",
      "execution_count": null,
      "metadata": {
        "colab": {
          "height": 168
        },
        "executionInfo": {
          "elapsed": 581,
          "status": "ok",
          "timestamp": 1569029822060,
          "user": {
            "displayName": "Utku Evci",
            "photoUrl": "https://lh3.googleusercontent.com/a-/AAuE7mAWXSVCykm6kPzLHt5KN6jYg31_w1lnqRpCfWt35A=s64",
            "userId": "01088181649958641579"
          },
          "user_tz": 240
        },
        "id": "z_rW4hO0ZwIG",
        "outputId": "efe0e3cd-4ed1-49eb-db6b-d673b01cc020"
      },
      "outputs": [
        {
          "name": "stdout",
          "output_type": "stream",
          "text": [
            "1.0032864697591513\n",
            "Method: erdos_renyi_kernel, Sparsity: 0.850000\n",
            "Total Flops: 2442.726 MFlops\n",
            "Total Size: 16.809 Mbytes\n",
            "Real Sparsity: 0.846\n",
            "Method: erdos_renyi_kernel, Sparsity: 0.000000\n",
            "Total Flops: 1141.544 MFlops\n",
            "Total Size: 16.864 Mbytes\n",
            "Real Sparsity: 0.000\n"
          ]
        }
      ],
      "source": [
        "_, sparse_bits, _ = get_stats(masked_layers, 0., 'erdos_renyi_kernel')\n",
        "_, bits, _ = get_stats(masked_layers, 0.85, 'erdos_renyi_kernel', {'conv1/kernel:0':0.}, width=2.52)\n",
        "print(sparse_bits/bits)\n",
        "print_stats(masked_layers, 0.85, 'erdos_renyi_kernel', {'conv1/kernel:0':0.}, is_debug=False, width=2.52)\n",
        "print_stats(masked_layers, 0., 'erdos_renyi_kernel', is_debug=False, width=1)"
      ]
    },
    {
      "cell_type": "code",
      "execution_count": null,
      "metadata": {
        "colab": {
          "height": 242
        },
        "executionInfo": {
          "elapsed": 558,
          "status": "ok",
          "timestamp": 1569939161351,
          "user": {
            "displayName": "",
            "photoUrl": "",
            "userId": ""
          },
          "user_tz": 240
        },
        "id": "MHhuiXGlaQEi",
        "outputId": "74db692f-bc1d-4f42-acc9-3848f4b2d21c"
      },
      "outputs": [
        {
          "name": "stdout",
          "output_type": "stream",
          "text": [
            "1.0120353164650686\n",
            "Method: erdos_renyi_kernel, Sparsity: 0.900000\n",
            "Total Flops: 2452.785 MFlops\n",
            "Total Size: 16.664 Mbytes\n",
            "Real Sparsity: 0.899\n",
            "Method: random, Sparsity: 0.900000\n",
            "Total Flops: 1058.478 MFlops\n",
            "Total Size: 17.833 Mbytes\n",
            "Real Sparsity: 0.890\n",
            "Method: erdos_renyi_kernel, Sparsity: 0.000000\n",
            "Total Flops: 1141.544 MFlops\n",
            "Total Size: 16.864 Mbytes\n",
            "Real Sparsity: 0.000\n"
          ]
        }
      ],
      "source": [
        "_, sparse_bits, _ = get_stats(masked_layers, 0., 'erdos_renyi_kernel')\n",
        "_, bits, _ = get_stats(masked_layers, 0.9, 'erdos_renyi_kernel', {'conv1/kernel:0':0.}, width=3.)\n",
        "print(sparse_bits/bits)\n",
        "print_stats(masked_layers, 0.9, 'erdos_renyi_kernel', {'conv1/kernel:0':0.}, is_debug=False, width=3.)\n",
        "print_stats(masked_layers, 0.9, 'random', {'conv_preds/kernel:0':0.8, 'conv1/kernel:0':0.}, is_debug=False, width=3.)\n",
        "print_stats(masked_layers, 0., 'erdos_renyi_kernel', is_debug=False, width=1)"
      ]
    },
    {
      "cell_type": "code",
      "execution_count": null,
      "metadata": {
        "colab": {
          "height": 173
        },
        "executionInfo": {
          "elapsed": 523,
          "status": "ok",
          "timestamp": 1569939157037,
          "user": {
            "displayName": "",
            "photoUrl": "",
            "userId": ""
          },
          "user_tz": 240
        },
        "id": "wENtmNUGaXwj",
        "outputId": "dab1f1c2-b647-4a67-b486-5ec5dcfcf4af"
      },
      "outputs": [
        {
          "name": "stdout",
          "output_type": "stream",
          "text": [
            "1.0031304863290271\n",
            "Method: erdos_renyi_kernel, Sparsity: 0.950000\n",
            "Total Flops: 2132.954 MFlops\n",
            "Total Size: 16.812 Mbytes\n",
            "Real Sparsity: 0.954\n",
            "Method: erdos_renyi_kernel, Sparsity: 0.000000\n",
            "Total Flops: 1141.544 MFlops\n",
            "Total Size: 16.864 Mbytes\n",
            "Real Sparsity: 0.000\n"
          ]
        }
      ],
      "source": [
        "_, sparse_bits, _ = get_stats(masked_layers, 0., 'erdos_renyi_kernel')\n",
        "_, bits, _ = get_stats(masked_layers, 0.95, 'erdos_renyi_kernel', {'conv1/kernel:0':0.}, width=3.98)\n",
        "print(sparse_bits/bits)\n",
        "print_stats(masked_layers, 0.95, 'erdos_renyi_kernel', {'conv1/kernel:0':0.}, is_debug=False, width=3.98)\n",
        "print_stats(masked_layers, 0., 'erdos_renyi_kernel', is_debug=False, width=1)"
      ]
    },
    {
      "cell_type": "code",
      "execution_count": null,
      "metadata": {
        "id": "klQNdBJIqm3E"
      },
      "outputs": [],
      "source": [
        ""
      ]
    }
  ],
  "metadata": {
    "colab": {
      "collapsed_sections": [],
      "last_runtime": {
        "build_target": "//learning/brain/python/client:colab_notebook",
        "kind": "private"
      },
      "name": "MobileNet v1: Param/Flops Counting [OPEN_SOURCE].ipynb"
    },
    "kernelspec": {
      "display_name": "Python 2",
      "name": "python2"
    }
  },
  "nbformat": 4,
  "nbformat_minor": 0
}
